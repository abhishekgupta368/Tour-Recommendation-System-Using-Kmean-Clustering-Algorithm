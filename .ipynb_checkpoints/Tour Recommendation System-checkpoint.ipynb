{
 "cells": [
  {
   "cell_type": "code",
   "execution_count": 2,
   "metadata": {},
   "outputs": [],
   "source": [
    "import numpy as np\n",
    "import pandas as pd\n",
    "import matplotlib.pyplot as plt\n",
    "from sklearn.model_selection import train_test_split\n",
    "from sklearn.preprocessing import StandardScaler\n",
    "from sklearn.metrics import accuracy_score\n",
    "from sklearn.metrics import classification_report\n",
    "from sklearn.cluster import KMeans\n",
    "from scipy.spatial.distance import cdist\n",
    "import pickle as pkl\n",
    "import joblib\n",
    "from sklearn.metrics import silhouette_score\n",
    "from math import radians, cos, sin, asin, sqrt "
   ]
  },
  {
   "cell_type": "code",
   "execution_count": 17,
   "metadata": {},
   "outputs": [],
   "source": [
    "class TourRecommandationSystem():\n",
    "    def __init__(self, f_name,sample):\n",
    "        self.dataset = pd.read_csv(f_name)[:sample]\n",
    "        self.pre_data = {}\n",
    "        self.stdScl = StandardScaler()\n",
    "        self.distortion_map = {}\n",
    "        self.interia_map = {}\n",
    "        self.silho_map = {}\n",
    "        self.no_of_clst = None\n",
    "        self.x_train = None\n",
    "        \n",
    "    def preprocess_date(self):\n",
    "        utcTimeStamp = pd.to_datetime(self.dataset['utcTimestamp'])\n",
    "        self.dataset['date'] = utcTimeStamp.dt.date\n",
    "        self.dataset['year'] = utcTimeStamp.dt.year\n",
    "        self.dataset['month'] = utcTimeStamp.dt.month\n",
    "        self.dataset = self.dataset.drop(['utcTimestamp'],axis=1)\n",
    "        \n",
    "    def create_model_data(self):\n",
    "        self.pre_data['venueId'] = self.dataset['venueId']\n",
    "        self.pre_data['latitude'] = self.dataset['latitude']\n",
    "        self.pre_data['longitude'] = self.dataset['longitude']\n",
    "        self.pre_data = pd.DataFrame(self.pre_data)\n",
    "        \n",
    "    def split_data(self,train_size=80):\n",
    "        data = self.pre_data[['latitude','longitude']]\n",
    "        self.x_train = data.values\n",
    "        \n",
    "    def pre_process_data(self):\n",
    "        self.x_train = self.stdScl.fit_transform(self.x_train)\n",
    "        \n",
    "    def draw_line_graph(self,labels,cls_cnt,gph_tilte,x_label,y_label):\n",
    "        plt.plot(labels,cls_cnt)\n",
    "        plt.title(gph_tilte)\n",
    "        plt.xlabel(x_label)\n",
    "        plt.ylabel(y_label)\n",
    "        plt.plot()\n",
    "    \n",
    "    def draw_bar_graph(self,labels,cls_cnt,gph_tilte,x_label,y_label):\n",
    "        plt.bar(labels,cls_cnt)\n",
    "        plt.title(gph_tilte)\n",
    "        plt.xlabel(x_label)\n",
    "        plt.ylabel(y_label)\n",
    "        plt.plot()\n",
    "        \n",
    "    def plot_elbow_graph(self,l=10,r=20):\n",
    "        self.no_of_clst = np.arange(l,r)\n",
    "        distortions=[]\n",
    "        for x in self.no_of_clst:\n",
    "            kmean = KMeans(n_clusters=x)\n",
    "            kmean.fit(self.x_train)\n",
    "            #calculate distortion \n",
    "            distortions.append(sum(np.min(cdist(self.x_train, kmean.cluster_centers_, \n",
    "                      'euclidean'),axis=1)) /self.x_train.shape[0]) \n",
    "            \n",
    "            self.distortion_map[x] = sum(np.min(cdist(self.x_train, kmean.cluster_centers_, \n",
    "                      'euclidean'),axis=1)) / self.x_train.shape[0]\n",
    "            self.interia_map[x] = kmean.inertia_\n",
    "        \n",
    "        self.draw_line_graph(self.no_of_clst,distortions,\"Elbow Methods\",\"No of clusters\",\"Cost functions\")\n",
    "        \n",
    "    def get_silhouette_score(self,l=10,r=20):\n",
    "        self.no_of_clst = np.arange(l,r)\n",
    "        score = []\n",
    "        for x in self.no_of_clst: \n",
    "            kmean = KMeans(n_clusters = x) \n",
    "            cluster_labels = kmean.fit_predict(self.x_train) \n",
    "            silhouette_avg = silhouette_score(self.x_train, cluster_labels)\n",
    "            self.silho_map[x]= silhouette_avg\n",
    "            score.append(silhouette_avg)\n",
    "        \n",
    "        self.draw_bar_graph(self.no_of_clst,score,\"Silhouette Score\",\"Cluster\",\"Score\")\n",
    "    \n",
    "    def get_max_score(self,l=10,r=20):\n",
    "        self.no_of_clst = np.arange(l,r)\n",
    "        score = []\n",
    "        mx = 0\n",
    "        clst= 0\n",
    "        for x in self.no_of_clst: \n",
    "            kmean = KMeans(n_clusters = x) \n",
    "            cluster_labels = kmean.fit_predict(self.x_train) \n",
    "            silhouette_avg = silhouette_score(self.x_train, cluster_labels)\n",
    "            \n",
    "            if(mx < silhouette_avg):\n",
    "                mx = silhouette_avg\n",
    "                clst = x\n",
    "                \n",
    "        return clst\n",
    "            \n",
    "    def train_model(self,n_clust):\n",
    "        print(\"Trained clusters: \"+str(n_clust))\n",
    "        kmean = KMeans(n_clusters=n_clust)\n",
    "        kmean.fit(self.x_train)\n",
    "        joblib.dump(kmean, \"final_model.sav\")\n",
    "    \n",
    "    def assign_score(self):\n",
    "        kmean = joblib.load(\"final_model.sav\") \n",
    "        res = kmean.predict(self.x_train)\n",
    "        self.dataset['cluster']=res\n",
    "    \n",
    "    def cal_dist(self,x1,y1,x2,y2):\n",
    "        lat1, lng1 =radians(x1), radians(y1) \n",
    "        lat2, lng2 = radians(y2), radians(x2)\n",
    "        dlon = lng2 - lng1  \n",
    "        dlat = lat2 - lat1 \n",
    "        a = sin(dlat / 2)**2 + cos(lat1) * cos(lat2) * sin(dlon / 2)**2\n",
    "\n",
    "        c = 2 * asin(sqrt(a))  \n",
    "        r = 6371 \n",
    "        return(c * r) \n",
    "    \n",
    "    def recommand_place(self,lat,lng,top_place=10):\n",
    "        kmean = joblib.load(\"final_model.sav\") \n",
    "        res = kmean.predict([[lat,lng]])\n",
    "        data = self.dataset[self.dataset['cluster']==res[0]]\n",
    "        rcd_plc = {}\n",
    "        place_name = data['venueCategory'].values\n",
    "        place_lat = data['latitude'].values\n",
    "        place_lng = data['longitude'].values\n",
    "        \n",
    "        for p_name,p_lat,p_lng in zip(place_name,place_lat,place_lng):\n",
    "            rcd_plc[self.cal_dist(lat,lng,p_lat,p_lng)] = {'place':p_name,'lat':p_lat,'lng':p_lng}\n",
    "            \n",
    "            \n",
    "        rcd_plc = sorted(rcd_plc.items(),key=lambda kv:kv[0])\n",
    "        return rcd_plc[:top_place]\n",
    "    \n",
    "    def print_data(self,n=5):\n",
    "        print(self.dataset.head(n))\n",
    "    \n",
    "    def print_interia(self):\n",
    "        for k,v in self.interia_map.items():\n",
    "            print(\"cluster \"+str(k)+\": \"+str(v))\n",
    "        \n",
    "    def print_silhouette_score(self):\n",
    "        for k,v in self.silho_map.items():\n",
    "            print(\"cluster \"+str(k)+\": \"+str(v))\n",
    "            \n",
    "    def save_dataset(self):\n",
    "        self.dataset.to_csv('new_dataset.csv',Index=False)"
   ]
  },
  {
   "cell_type": "code",
   "execution_count": 18,
   "metadata": {},
   "outputs": [],
   "source": [
    "if __name__ == \"__main__\":\n",
    "    trs = TourRecommandationSystem(\"dataset_TSMC2014_NYC.csv\",sample=1000)\n",
    "#     trs.preprocess_date()\n",
    "    trs.create_model_data()\n",
    "    trs.split_data()\n",
    "    "
   ]
  },
  {
   "cell_type": "code",
   "execution_count": 19,
   "metadata": {
    "scrolled": true
   },
   "outputs": [
    {
     "data": {
      "image/png": "[encoded data removed]",
      "text/plain": [
       "<Figure size 432x288 with 1 Axes>"
      ]
     },
     "metadata": {
      "needs_background": "light"
     },
     "output_type": "display_data"
    }
   ],
   "source": [
    "trs.get_silhouette_score()"
   ]
  },
  {
   "cell_type": "code",
   "execution_count": 20,
   "metadata": {},
   "outputs": [
    {
     "name": "stdout",
     "output_type": "stream",
     "text": [
      "cluster 10: 0.4050574542522179\n",
      "cluster 11: 0.4089299834157175\n",
      "cluster 12: 0.4055747457122311\n",
      "cluster 13: 0.42441641704097777\n",
      "cluster 14: 0.43724442032964045\n",
      "cluster 15: 0.4205101580244076\n",
      "cluster 16: 0.39476538119597115\n",
      "cluster 17: 0.41987516514658774\n",
      "cluster 18: 0.414602996533318\n",
      "cluster 19: 0.41805138183320395\n"
     ]
    }
   ],
   "source": [
    "trs.print_silhouette_score()"
   ]
  },
  {
   "cell_type": "code",
   "execution_count": 21,
   "metadata": {},
   "outputs": [
    {
     "name": "stdout",
     "output_type": "stream",
     "text": [
      "Trained clusters: 10\n"
     ]
    }
   ],
   "source": [
    "trs.train_model(trs.get_max_score(l=10,r=20))\n",
    "trs.assign_score()"
   ]
  },
  {
   "cell_type": "markdown",
   "metadata": {},
   "source": [
    "# Test my model against given data points"
   ]
  },
  {
   "cell_type": "code",
   "execution_count": 22,
   "metadata": {
    "scrolled": false
   },
   "outputs": [
    {
     "name": "stdout",
     "output_type": "stream",
     "text": [
      "Top 10 place reommended near you on the basis of data:\n",
      "Gas Station / Garage\n",
      "Subway\n",
      "Music Venue\n",
      "Dessert Shop\n",
      "Diner\n",
      "American Restaurant\n",
      "Fried Chicken Joint\n",
      "Sushi Restaurant\n",
      "Restaurant\n",
      "Ramen /  Noodle House\n"
     ]
    }
   ],
   "source": [
    "\n",
    "top_place=10\n",
    "predLat= 40.719810\n",
    "predLng= -74.002581\n",
    "data_points = trs.recommand_place(lat=predLat,lng=predLng,top_place =top_place)\n",
    "print(\"Top \"+str(top_place)+\" place reommended near you on the basis of data:\")\n",
    "for data in data_points:\n",
    "    print(data[1]['place'])\n"
   ]
  },
  {
   "cell_type": "markdown",
   "metadata": {},
   "source": [
    "# visulization of data points on the map"
   ]
  },
  {
   "cell_type": "code",
   "execution_count": 23,
   "metadata": {},
   "outputs": [
    {
     "data": {
      "application/vnd.jupyter.widget-view+json": {
       "model_id": "082d58a31e1a44f59e2efc14bbd9090e",
       "version_major": 2,
       "version_minor": 0
      },
      "text/plain": [
       "Map(basemap={'url': 'https://{s}.tile.openstreetmap.org/{z}/{x}/{y}.png', 'max_zoom': 19, 'attribution': 'Map …"
      ]
     },
     "metadata": {},
     "output_type": "display_data"
    }
   ],
   "source": [
    "from ipyleaflet import Map, Marker, CircleMarker\n",
    "\n",
    "center = (predLat,predLng)\n",
    "#here red circle represent user location on the map\n",
    "m = Map(center=center, zoom=20)\n",
    "\n",
    "circle_marker = CircleMarker()\n",
    "circle_marker.location = center\n",
    "circle_marker.radius = 10\n",
    "circle_marker.color = \"red\"\n",
    "circle_marker.fill_color = \"red\"\n",
    "m.add_layer(circle_marker);\n",
    "\n",
    "for data in data_points:\n",
    "    lat = data[1]['lat']\n",
    "    lng = data[1]['lng']\n",
    "    name =data[1]['place']\n",
    "    marker = Marker(location=(lat,lng), draggable=False,title = name,rise_on_hover=True)\n",
    "    m.add_layer(marker);\n",
    "m"
   ]
  },
  {
   "cell_type": "markdown",
   "metadata": {},
   "source": [
    "# Read Dataset"
   ]
  },
  {
   "cell_type": "code",
   "execution_count": 24,
   "metadata": {},
   "outputs": [],
   "source": [
    "import pandas as pd\n"
   ]
  },
  {
   "cell_type": "code",
   "execution_count": 25,
   "metadata": {},
   "outputs": [
    {
     "data": {
      "text/html": [
       "<div>\n",
       "<style scoped>\n",
       "    .dataframe tbody tr th:only-of-type {\n",
       "        vertical-align: middle;\n",
       "    }\n",
       "\n",
       "    .dataframe tbody tr th {\n",
       "        vertical-align: top;\n",
       "    }\n",
       "\n",
       "    .dataframe thead th {\n",
       "        text-align: right;\n",
       "    }\n",
       "</style>\n",
       "<table border=\"1\" class=\"dataframe\">\n",
       "  <thead>\n",
       "    <tr style=\"text-align: right;\">\n",
       "      <th></th>\n",
       "      <th>userId</th>\n",
       "      <th>venueId</th>\n",
       "      <th>venueCategoryId</th>\n",
       "      <th>venueCategory</th>\n",
       "      <th>latitude</th>\n",
       "      <th>longitude</th>\n",
       "      <th>timezoneOffset</th>\n",
       "      <th>utcTimestamp</th>\n",
       "    </tr>\n",
       "  </thead>\n",
       "  <tbody>\n",
       "    <tr>\n",
       "      <th>0</th>\n",
       "      <td>470</td>\n",
       "      <td>49bbd6c0f964a520f4531fe3</td>\n",
       "      <td>4bf58dd8d48988d127951735</td>\n",
       "      <td>Arts &amp; Crafts Store</td>\n",
       "      <td>40.719810</td>\n",
       "      <td>-74.002581</td>\n",
       "      <td>-240</td>\n",
       "      <td>Tue Apr 03 18:00:09 +0000 2012</td>\n",
       "    </tr>\n",
       "    <tr>\n",
       "      <th>1</th>\n",
       "      <td>979</td>\n",
       "      <td>4a43c0aef964a520c6a61fe3</td>\n",
       "      <td>4bf58dd8d48988d1df941735</td>\n",
       "      <td>Bridge</td>\n",
       "      <td>40.606800</td>\n",
       "      <td>-74.044170</td>\n",
       "      <td>-240</td>\n",
       "      <td>Tue Apr 03 18:00:25 +0000 2012</td>\n",
       "    </tr>\n",
       "    <tr>\n",
       "      <th>2</th>\n",
       "      <td>69</td>\n",
       "      <td>4c5cc7b485a1e21e00d35711</td>\n",
       "      <td>4bf58dd8d48988d103941735</td>\n",
       "      <td>Home (private)</td>\n",
       "      <td>40.716162</td>\n",
       "      <td>-73.883070</td>\n",
       "      <td>-240</td>\n",
       "      <td>Tue Apr 03 18:02:24 +0000 2012</td>\n",
       "    </tr>\n",
       "    <tr>\n",
       "      <th>3</th>\n",
       "      <td>395</td>\n",
       "      <td>4bc7086715a7ef3bef9878da</td>\n",
       "      <td>4bf58dd8d48988d104941735</td>\n",
       "      <td>Medical Center</td>\n",
       "      <td>40.745164</td>\n",
       "      <td>-73.982519</td>\n",
       "      <td>-240</td>\n",
       "      <td>Tue Apr 03 18:02:41 +0000 2012</td>\n",
       "    </tr>\n",
       "    <tr>\n",
       "      <th>4</th>\n",
       "      <td>87</td>\n",
       "      <td>4cf2c5321d18a143951b5cec</td>\n",
       "      <td>4bf58dd8d48988d1cb941735</td>\n",
       "      <td>Food Truck</td>\n",
       "      <td>40.740104</td>\n",
       "      <td>-73.989658</td>\n",
       "      <td>-240</td>\n",
       "      <td>Tue Apr 03 18:03:00 +0000 2012</td>\n",
       "    </tr>\n",
       "  </tbody>\n",
       "</table>\n",
       "</div>"
      ],
      "text/plain": [
       "   userId                   venueId           venueCategoryId  \\\n",
       "0     470  49bbd6c0f964a520f4531fe3  4bf58dd8d48988d127951735   \n",
       "1     979  4a43c0aef964a520c6a61fe3  4bf58dd8d48988d1df941735   \n",
       "2      69  4c5cc7b485a1e21e00d35711  4bf58dd8d48988d103941735   \n",
       "3     395  4bc7086715a7ef3bef9878da  4bf58dd8d48988d104941735   \n",
       "4      87  4cf2c5321d18a143951b5cec  4bf58dd8d48988d1cb941735   \n",
       "\n",
       "         venueCategory   latitude  longitude  timezoneOffset  \\\n",
       "0  Arts & Crafts Store  40.719810 -74.002581            -240   \n",
       "1               Bridge  40.606800 -74.044170            -240   \n",
       "2       Home (private)  40.716162 -73.883070            -240   \n",
       "3       Medical Center  40.745164 -73.982519            -240   \n",
       "4           Food Truck  40.740104 -73.989658            -240   \n",
       "\n",
       "                     utcTimestamp  \n",
       "0  Tue Apr 03 18:00:09 +0000 2012  \n",
       "1  Tue Apr 03 18:00:25 +0000 2012  \n",
       "2  Tue Apr 03 18:02:24 +0000 2012  \n",
       "3  Tue Apr 03 18:02:41 +0000 2012  \n",
       "4  Tue Apr 03 18:03:00 +0000 2012  "
      ]
     },
     "execution_count": 25,
     "metadata": {},
     "output_type": "execute_result"
    }
   ],
   "source": [
    "data = pd.read_csv(\"dataset_TSMC2014_NYC.csv\")\n",
    "data.head(5)"
   ]
  },
  {
   "cell_type": "code",
   "execution_count": 26,
   "metadata": {},
   "outputs": [
    {
     "data": {
      "text/html": [
       "<div>\n",
       "<style scoped>\n",
       "    .dataframe tbody tr th:only-of-type {\n",
       "        vertical-align: middle;\n",
       "    }\n",
       "\n",
       "    .dataframe tbody tr th {\n",
       "        vertical-align: top;\n",
       "    }\n",
       "\n",
       "    .dataframe thead th {\n",
       "        text-align: right;\n",
       "    }\n",
       "</style>\n",
       "<table border=\"1\" class=\"dataframe\">\n",
       "  <thead>\n",
       "    <tr style=\"text-align: right;\">\n",
       "      <th></th>\n",
       "      <th>venueId</th>\n",
       "      <th>latitude</th>\n",
       "      <th>longitude</th>\n",
       "    </tr>\n",
       "  </thead>\n",
       "  <tbody>\n",
       "    <tr>\n",
       "      <th>0</th>\n",
       "      <td>49bbd6c0f964a520f4531fe3</td>\n",
       "      <td>40.719810</td>\n",
       "      <td>-74.002581</td>\n",
       "    </tr>\n",
       "    <tr>\n",
       "      <th>1</th>\n",
       "      <td>4a43c0aef964a520c6a61fe3</td>\n",
       "      <td>40.606800</td>\n",
       "      <td>-74.044170</td>\n",
       "    </tr>\n",
       "    <tr>\n",
       "      <th>2</th>\n",
       "      <td>4c5cc7b485a1e21e00d35711</td>\n",
       "      <td>40.716162</td>\n",
       "      <td>-73.883070</td>\n",
       "    </tr>\n",
       "    <tr>\n",
       "      <th>3</th>\n",
       "      <td>4bc7086715a7ef3bef9878da</td>\n",
       "      <td>40.745164</td>\n",
       "      <td>-73.982519</td>\n",
       "    </tr>\n",
       "    <tr>\n",
       "      <th>4</th>\n",
       "      <td>4cf2c5321d18a143951b5cec</td>\n",
       "      <td>40.740104</td>\n",
       "      <td>-73.989658</td>\n",
       "    </tr>\n",
       "  </tbody>\n",
       "</table>\n",
       "</div>"
      ],
      "text/plain": [
       "                    venueId   latitude  longitude\n",
       "0  49bbd6c0f964a520f4531fe3  40.719810 -74.002581\n",
       "1  4a43c0aef964a520c6a61fe3  40.606800 -74.044170\n",
       "2  4c5cc7b485a1e21e00d35711  40.716162 -73.883070\n",
       "3  4bc7086715a7ef3bef9878da  40.745164 -73.982519\n",
       "4  4cf2c5321d18a143951b5cec  40.740104 -73.989658"
      ]
     },
     "execution_count": 26,
     "metadata": {},
     "output_type": "execute_result"
    }
   ],
   "source": [
    "data = data[[\"venueId\",'latitude','longitude']]\n",
    "data.head(5)"
   ]
  },
  {
   "cell_type": "code",
   "execution_count": 27,
   "metadata": {},
   "outputs": [
    {
     "data": {
      "image/png": "[encoded data removed]",
      "text/plain": [
       "<Figure size 432x288 with 1 Axes>"
      ]
     },
     "metadata": {
      "needs_background": "light"
     },
     "output_type": "display_data"
    }
   ],
   "source": [
    "trs.plot_elbow_graph()"
   ]
  },
  {
   "cell_type": "code",
   "execution_count": 30,
   "metadata": {},
   "outputs": [
    {
     "name": "stdout",
     "output_type": "stream",
     "text": [
      "PreProcessed Data:\n",
      "\n",
      "[[-0.50353894 -0.20199079]\n",
      " [-2.10556229 -0.67356619]\n",
      " [-0.55526233  1.15314473]\n",
      " ...\n",
      " [-1.56277238  2.27057025]\n",
      " [-0.27963703  0.14518301]\n",
      " [-1.57681058 -1.30437796]]\n"
     ]
    }
   ],
   "source": [
    "trs.pre_process_data()\n",
    "print(\"PreProcessed Data:\\n\")\n",
    "print(trs.x_train)"
   ]
  },
  {
   "cell_type": "code",
   "execution_count": null,
   "metadata": {},
   "outputs": [],
   "source": []
  }
 ],
 "metadata": {
  "kernelspec": {
   "display_name": "Python 3",
   "language": "python",
   "name": "python3"
  },
  "language_info": {
   "codemirror_mode": {
    "name": "ipython",
    "version": 3
   },
   "file_extension": ".py",
   "mimetype": "text/x-python",
   "name": "python",
   "nbconvert_exporter": "python",
   "pygments_lexer": "ipython3",
   "version": "3.7.3"
  }
 },
 "nbformat": 4,
 "nbformat_minor": 2
}
